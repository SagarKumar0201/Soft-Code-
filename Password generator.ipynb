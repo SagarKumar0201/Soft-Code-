{
 "cells": [
  {
   "cell_type": "code",
   "execution_count": 26,
   "id": "ac477a1d-5d1a-4fee-a5e7-708f2cc8dabf",
   "metadata": {},
   "outputs": [],
   "source": [
    "#To generate random password write   generate_password(\"\")\n",
    "import random\n",
    "import string\n",
    "\n",
    "def generate_password(length):\n",
    "    # Define the character \n",
    "    length = int(input('\\033[1m' +\"Enter the length of the password: \"))\n",
    "    lowercase_letters = string.ascii_lowercase\n",
    "    uppercase_letters = string.ascii_uppercase\n",
    "    digits = string.digits\n",
    "    special_characters = string.punctuation\n",
    "\n",
    "    # Combine all character \n",
    "    all_characters = lowercase_letters + uppercase_letters + digits + special_characters\n",
    "    \n",
    "    # Generate the password using random.choice()\n",
    "    password = ''.join(random.choice(all_characters) for _ in range(length))\n",
    "\n",
    "    print(\"\\n\") \n",
    "    print('\\033[1m' +\"Generated Password: \", password)\n",
    "\n"
   ]
  },
  {
   "cell_type": "code",
   "execution_count": 27,
   "id": "3e585cdc-b6bb-4a3a-9359-d97cbee29806",
   "metadata": {},
   "outputs": [
    {
     "name": "stdin",
     "output_type": "stream",
     "text": [
      "\u001b[1mEnter the length of the password:  32\n"
     ]
    },
    {
     "name": "stdout",
     "output_type": "stream",
     "text": [
      "\n",
      "\n",
      "\u001b[1mGenerated Password:  772_%?gVW2t2Q&OFXT:2l6Fv0#e19cM.\n"
     ]
    }
   ],
   "source": [
    "generate_password(\"\")"
   ]
  },
  {
   "cell_type": "code",
   "execution_count": null,
   "id": "b870eed1-12d7-42b9-af77-6326dec10af9",
   "metadata": {},
   "outputs": [],
   "source": []
  }
 ],
 "metadata": {
  "kernelspec": {
   "display_name": "Python 3 (ipykernel)",
   "language": "python",
   "name": "python3"
  },
  "language_info": {
   "codemirror_mode": {
    "name": "ipython",
    "version": 3
   },
   "file_extension": ".py",
   "mimetype": "text/x-python",
   "name": "python",
   "nbconvert_exporter": "python",
   "pygments_lexer": "ipython3",
   "version": "3.11.7"
  }
 },
 "nbformat": 4,
 "nbformat_minor": 5
}
