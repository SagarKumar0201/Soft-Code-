{
 "cells": [
  {
   "cell_type": "code",
   "execution_count": 6,
   "id": "d5c8d0a5",
   "metadata": {},
   "outputs": [],
   "source": [
    "# To play the game type Roshambo(\"\")\n",
    "import random   \n",
    "#random is use to generate random values.\n",
    "opptions=[\"Rock\",\"Paper\",\"Scissor\"]\n",
    "def Roshambo(player):\n",
    "    \n",
    "\n",
    "    Computer_Total_Score=0\n",
    "    Player_Total_Score=0\n",
    "\n",
    "    while True:\n",
    "        \n",
    "        computer  = random.choice(opptions)\n",
    "        print(\"Rock / Paper / Scissor:-\")\n",
    "        print(\"\\n\")\n",
    "        player=input(\"Player Choose: \").capitalize() # Rock/Paper/Scissor:\n",
    "    \n",
    "        \n",
    "        print(f'Computer Choose:{computer}')\n",
    "\n",
    "# '\\033[1m'  is use to bold output \n",
    "        \n",
    "        if computer==player:\n",
    "            print('\\033[1m' +\"Tie...\")\n",
    "    \n",
    "        elif computer==\"Rock\" and player==\"Paper\":\n",
    "            Player_Total_Score+=1\n",
    "            print(f'Player Total Score :{Player_Total_Score}   ,   Computer Total Score:{Computer_Total_Score}')\n",
    "            print('Paper Cover the Rock')\n",
    "            print('\\033[1m' +\"player win...\")\n",
    "    \n",
    "        elif computer==\"Paper\" and player==\"Scissor\":\n",
    "            Player_Total_Score+=1\n",
    "            print(f'Player Total Score :{Player_Total_Score}   ,   Computer Total Score:{Computer_Total_Score}')\n",
    "            print('Scissor Cut the Paper')\n",
    "            print('\\033[1m' +\"player win...\")\n",
    "    \n",
    "        elif computer==\"Scissor\" and player==\"Rock\":\n",
    "            Player_Total_Score+=1\n",
    "            print(f'Player Total Score :{Player_Total_Score}   ,   Computer Total Score:{Computer_Total_Score}')\n",
    "            print('Rock break the Scissor')\n",
    "            print('\\033[1m' +\"player win...\") \n",
    "    \n",
    "        elif computer==\"Paper\" and player==\"Rock\":\n",
    "            Computer_Total_Score+=1\n",
    "            print(f'Player Total Score :{Player_Total_Score}   ,   Computer Total Score:{Computer_Total_Score}')\n",
    "            print('Paper Cover the Rock')\n",
    "            print('\\033[1m' +\"computer win...\")\n",
    "    \n",
    "        elif computer==\"Scissor\" and player==\"Paper\":\n",
    "            Computer_Total_Score+=1\n",
    "            print(f'Player Total Score :{Player_Total_Score}   ,   Computer Total Score:{Computer_Total_Score}')\n",
    "            print('Scissor Cut the Paper')\n",
    "            print('\\033[1m' +\"computer win...\")\n",
    "    \n",
    "        elif computer==\"Rock\" and player==\"Scissor\":\n",
    "            Computer_Total_Score+=1\n",
    "            print(f'Player Total Score :{Player_Total_Score}   ,   Computer Total Score:{Computer_Total_Score}')\n",
    "            print('Rock break the Scissor')\n",
    "            print('\\033[1m' +\"computer win...\")\n",
    "        \n",
    "        print(\"\\n\")    \n",
    "        Again=input(\"For play again press 'Y' and for exit press any key:-\")\n",
    "        print(\"\\n\")\n",
    "        if Again.upper()=='Y':\n",
    "            pass\n",
    "\n",
    "        else:\n",
    "            print(f'Player Score: {Player_Total_Score}   ,    Computer Score: {Computer_Total_Score}')\n",
    "        \n",
    "            if Player_Total_Score < Computer_Total_Score:\n",
    "                print('\\033[1m' +'Computer Wins the match...')\n",
    "        \n",
    "            elif Player_Total_Score == Computer_Total_Score:\n",
    "                print('\\033[1m' +'Scores are Equal')\n",
    "    \n",
    "            elif Player_Total_Score > Computer_Total_Score:\n",
    "                print('\\033[1m' +'Player Wins the match...')\n",
    "            break\n",
    "    \n",
    "\n",
    "    "
   ]
  },
  {
   "cell_type": "code",
   "execution_count": 7,
   "id": "5d3ca4fd-a910-459b-b969-1ad653139c88",
   "metadata": {},
   "outputs": [
    {
     "name": "stdout",
     "output_type": "stream",
     "text": [
      "Rock / Paper / Scissor:-\n",
      "\n",
      "\n"
     ]
    },
    {
     "name": "stdin",
     "output_type": "stream",
     "text": [
      "Player Choose:  Paper\n"
     ]
    },
    {
     "name": "stdout",
     "output_type": "stream",
     "text": [
      "Computer Choose:Paper\n",
      "\u001b[1mTie...\n",
      "\n",
      "\n"
     ]
    },
    {
     "name": "stdin",
     "output_type": "stream",
     "text": [
      "For play again press 'Y' and for exit press any key:- Y\n"
     ]
    },
    {
     "name": "stdout",
     "output_type": "stream",
     "text": [
      "\n",
      "\n",
      "Rock / Paper / Scissor:-\n",
      "\n",
      "\n"
     ]
    },
    {
     "name": "stdin",
     "output_type": "stream",
     "text": [
      "Player Choose:  Rock\n"
     ]
    },
    {
     "name": "stdout",
     "output_type": "stream",
     "text": [
      "Computer Choose:Scissor\n",
      "Player Total Score :1   ,   Computer Total Score:0\n",
      "Rock break the Scissor\n",
      "\u001b[1mplayer win...\n",
      "\n",
      "\n"
     ]
    },
    {
     "name": "stdin",
     "output_type": "stream",
     "text": [
      "For play again press 'Y' and for exit press any key:- Y\n"
     ]
    },
    {
     "name": "stdout",
     "output_type": "stream",
     "text": [
      "\n",
      "\n",
      "Rock / Paper / Scissor:-\n",
      "\n",
      "\n"
     ]
    },
    {
     "name": "stdin",
     "output_type": "stream",
     "text": [
      "Player Choose:  Rock\n"
     ]
    },
    {
     "name": "stdout",
     "output_type": "stream",
     "text": [
      "Computer Choose:Rock\n",
      "\u001b[1mTie...\n",
      "\n",
      "\n"
     ]
    },
    {
     "name": "stdin",
     "output_type": "stream",
     "text": [
      "For play again press 'Y' and for exit press any key:- Y\n"
     ]
    },
    {
     "name": "stdout",
     "output_type": "stream",
     "text": [
      "\n",
      "\n",
      "Rock / Paper / Scissor:-\n",
      "\n",
      "\n"
     ]
    },
    {
     "name": "stdin",
     "output_type": "stream",
     "text": [
      "Player Choose:  Scissor\n"
     ]
    },
    {
     "name": "stdout",
     "output_type": "stream",
     "text": [
      "Computer Choose:Paper\n",
      "Player Total Score :2   ,   Computer Total Score:0\n",
      "Scissor Cut the Paper\n",
      "\u001b[1mplayer win...\n",
      "\n",
      "\n"
     ]
    },
    {
     "name": "stdin",
     "output_type": "stream",
     "text": [
      "For play again press 'Y' and for exit press any key:- Y\n"
     ]
    },
    {
     "name": "stdout",
     "output_type": "stream",
     "text": [
      "\n",
      "\n",
      "Rock / Paper / Scissor:-\n",
      "\n",
      "\n"
     ]
    },
    {
     "name": "stdin",
     "output_type": "stream",
     "text": [
      "Player Choose:  Rock\n"
     ]
    },
    {
     "name": "stdout",
     "output_type": "stream",
     "text": [
      "Computer Choose:Scissor\n",
      "Player Total Score :3   ,   Computer Total Score:0\n",
      "Rock break the Scissor\n",
      "\u001b[1mplayer win...\n",
      "\n",
      "\n"
     ]
    },
    {
     "name": "stdin",
     "output_type": "stream",
     "text": [
      "For play again press 'Y' and for exit press any key:- Y\n"
     ]
    },
    {
     "name": "stdout",
     "output_type": "stream",
     "text": [
      "\n",
      "\n",
      "Rock / Paper / Scissor:-\n",
      "\n",
      "\n"
     ]
    },
    {
     "name": "stdin",
     "output_type": "stream",
     "text": [
      "Player Choose:  Paper\n"
     ]
    },
    {
     "name": "stdout",
     "output_type": "stream",
     "text": [
      "Computer Choose:Rock\n",
      "Player Total Score :4   ,   Computer Total Score:0\n",
      "Paper Cover the Rock\n",
      "\u001b[1mplayer win...\n",
      "\n",
      "\n"
     ]
    },
    {
     "name": "stdin",
     "output_type": "stream",
     "text": [
      "For play again press 'Y' and for exit press any key:- Y\n"
     ]
    },
    {
     "name": "stdout",
     "output_type": "stream",
     "text": [
      "\n",
      "\n",
      "Rock / Paper / Scissor:-\n",
      "\n",
      "\n"
     ]
    },
    {
     "name": "stdin",
     "output_type": "stream",
     "text": [
      "Player Choose:  Rock\n"
     ]
    },
    {
     "name": "stdout",
     "output_type": "stream",
     "text": [
      "Computer Choose:Paper\n",
      "Player Total Score :4   ,   Computer Total Score:1\n",
      "Paper Cover the Rock\n",
      "\u001b[1mcomputer win...\n",
      "\n",
      "\n"
     ]
    },
    {
     "name": "stdin",
     "output_type": "stream",
     "text": [
      "For play again press 'Y' and for exit press any key:- Y\n"
     ]
    },
    {
     "name": "stdout",
     "output_type": "stream",
     "text": [
      "\n",
      "\n",
      "Rock / Paper / Scissor:-\n",
      "\n",
      "\n"
     ]
    },
    {
     "name": "stdin",
     "output_type": "stream",
     "text": [
      "Player Choose:  Paper\n"
     ]
    },
    {
     "name": "stdout",
     "output_type": "stream",
     "text": [
      "Computer Choose:Rock\n",
      "Player Total Score :5   ,   Computer Total Score:1\n",
      "Paper Cover the Rock\n",
      "\u001b[1mplayer win...\n",
      "\n",
      "\n"
     ]
    },
    {
     "name": "stdin",
     "output_type": "stream",
     "text": [
      "For play again press 'Y' and for exit press any key:- E\n"
     ]
    },
    {
     "name": "stdout",
     "output_type": "stream",
     "text": [
      "\n",
      "\n",
      "Player Score: 5   ,    Computer Score: 1\n",
      "\u001b[1mPlayer Wins the match...\n"
     ]
    }
   ],
   "source": [
    "# Type Roshambo(\"\") to play a game\n",
    "Roshambo(\"\")"
   ]
  },
  {
   "cell_type": "code",
   "execution_count": null,
   "id": "62c4d3c6-c545-4acb-bef0-afda0034fbbe",
   "metadata": {},
   "outputs": [],
   "source": []
  }
 ],
 "metadata": {
  "kernelspec": {
   "display_name": "Python 3 (ipykernel)",
   "language": "python",
   "name": "python3"
  },
  "language_info": {
   "codemirror_mode": {
    "name": "ipython",
    "version": 3
   },
   "file_extension": ".py",
   "mimetype": "text/x-python",
   "name": "python",
   "nbconvert_exporter": "python",
   "pygments_lexer": "ipython3",
   "version": "3.11.7"
  }
 },
 "nbformat": 4,
 "nbformat_minor": 5
}
