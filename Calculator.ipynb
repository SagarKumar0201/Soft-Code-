{
 "cells": [
  {
   "cell_type": "code",
   "execution_count": 1,
   "id": "db9e9196-c188-4d85-9d95-d146e5feadb3",
   "metadata": {},
   "outputs": [],
   "source": [
    "# TO CALCULATE TYPE:-   Calculator(\"\")\n",
    "def Calculator(cal):\n",
    "    \n",
    "    def add(x, y):\n",
    "        return x + y\n",
    "\n",
    "    def subtract(x, y):\n",
    "        return x - y\n",
    "\n",
    "    def multiply(x, y):\n",
    "        return x * y\n",
    "\n",
    "    def divide(x, y):\n",
    "        if y == 0:\n",
    "            return \"Error! Division by zero.\"\n",
    "        else:\n",
    "            return x / y\n",
    "            \n",
    "# '\\033[1m'  is use to bold output \n",
    "\n",
    "    \n",
    "    print('\\033[1m' +\"Welcome to Simple Calculator!\")\n",
    "    print('\\033[1m' +\"Select operation:\")\n",
    "    print('\\033[1m' +'Press  \"A\"  for  Addition.')\n",
    "    print('\\033[1m' +'Press  \"S\"  for  Subtraction.')\n",
    "    print('\\033[1m' +'Press  \"M\"  for  Multiplication.')\n",
    "    print('\\033[1m' +'Press  \"D\"  for  Division.')\n",
    "    print(\"\\n\")\n",
    "\n",
    "    while True:\n",
    "        choice = input('\\033[1m' +\"Enter choice (A/S/M/D):- \")\n",
    "\n",
    "        if choice in ('A', 'S', 'M', 'D'):\n",
    "            num1 = float(input('\\033[1m' +\"     Enter first number:-     \"))\n",
    "            num2 = float(input('\\033[1m' +\"     Enter second number:-    \"))\n",
    "            print(\"\\n\")\n",
    "    \n",
    "\n",
    "            if choice == 'A':\n",
    "                print('\\033[1m' +\"     Result:\", add(num1, num2))\n",
    "            elif choice == 'S':\n",
    "                print('\\033[1m' +\"     Result:\", subtract(num1, num2))\n",
    "            elif choice == 'M':\n",
    "                print('\\033[1m' +\"     Result:\", multiply(num1, num2))\n",
    "            elif choice == 'D': \n",
    "                print('\\033[1m' +\"     Result:\", divide(num1, num2))\n",
    "\n",
    "            break\n",
    "        else:\n",
    "            print('\\033[1m' + \"Invalid input. Please enter a valid Choice (A/S/M/D)\")\n",
    "            break"
   ]
  },
  {
   "cell_type": "code",
   "execution_count": 2,
   "id": "320aae6b-cdfa-4fda-a42d-adddca239e73",
   "metadata": {},
   "outputs": [
    {
     "name": "stdout",
     "output_type": "stream",
     "text": [
      "\u001b[1mWelcome to Simple Calculator!\n",
      "\u001b[1mSelect operation:\n",
      "\u001b[1mPress  \"A\"  for  Addition.\n",
      "\u001b[1mPress  \"S\"  for  Subtraction.\n",
      "\u001b[1mPress  \"M\"  for  Multiplication.\n",
      "\u001b[1mPress  \"D\"  for  Division.\n",
      "\n",
      "\n"
     ]
    },
    {
     "name": "stdin",
     "output_type": "stream",
     "text": [
      "\u001b[1mEnter choice (A/S/M/D):-  A\n",
      "\u001b[1m     Enter first number:-      34\n",
      "\u001b[1m     Enter second number:-     54\n"
     ]
    },
    {
     "name": "stdout",
     "output_type": "stream",
     "text": [
      "\n",
      "\n",
      "\u001b[1m     Result: 88.0\n"
     ]
    }
   ],
   "source": [
    "Calculator(\"\")"
   ]
  },
  {
   "cell_type": "code",
   "execution_count": null,
   "id": "e71a94df-fe10-495d-9c84-e669ff438ec0",
   "metadata": {},
   "outputs": [],
   "source": []
  }
 ],
 "metadata": {
  "kernelspec": {
   "display_name": "Python 3 (ipykernel)",
   "language": "python",
   "name": "python3"
  },
  "language_info": {
   "codemirror_mode": {
    "name": "ipython",
    "version": 3
   },
   "file_extension": ".py",
   "mimetype": "text/x-python",
   "name": "python",
   "nbconvert_exporter": "python",
   "pygments_lexer": "ipython3",
   "version": "3.11.7"
  }
 },
 "nbformat": 4,
 "nbformat_minor": 5
}
